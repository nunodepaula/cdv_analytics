{
 "cells": [
  {
   "cell_type": "markdown",
   "metadata": {},
   "source": [
    "# Data ETL\n",
    "\n",
    "Data ETL routine for wind turbines specification from SIGEL/ANEEL database."
   ]
  },
  {
   "cell_type": "markdown",
   "metadata": {},
   "source": [
    "## Imports"
   ]
  },
  {
   "cell_type": "code",
   "execution_count": 1,
   "metadata": {},
   "outputs": [],
   "source": [
    "from datetime import datetime\n",
    "from pathlib import Path\n",
    "\n",
    "import geopandas as gpd\n",
    "import matplotlib.pyplot as plt\n",
    "import pandas as pd\n",
    "\n",
    "from cdv_analytics.fetch_data import fetch_data"
   ]
  },
  {
   "cell_type": "markdown",
   "metadata": {},
   "source": [
    "## Fetch data from SIGEL and save to multiple geojson files.\n",
    "There are 23504 entries in total in Sigel database. Since the website returns at most 1000 entries per request, the result of each request is saved in a json file, so we don't need to make requests for each analysis."
   ]
  },
  {
   "cell_type": "code",
   "execution_count": null,
   "metadata": {},
   "outputs": [],
   "source": [
    "fetch_data()"
   ]
  },
  {
   "cell_type": "markdown",
   "metadata": {},
   "source": [
    "### Read the json files and merge them in a single geo dataframe"
   ]
  },
  {
   "cell_type": "code",
   "execution_count": null,
   "metadata": {},
   "outputs": [],
   "source": [
    "sigel_data_path = Path.cwd().parent / \"outputs\" / \"sigel\"\n",
    "sigel_data_path.mkdir(parents=True, exist_ok=True)\n",
    "processed_data_path = Path.cwd().parent / \"outputs\" / \"processed_gdf.csv\"\n",
    "processed_data_path.parent.mkdir(parents=True, exist_ok=True)\n",
    "\n",
    "gdf_list = [\n",
    "    gpd.GeoDataFrame.from_file(filename) for filename in sigel_data_path.iterdir() if filename.is_file()\n",
    "]\n",
    "gdf_wind = pd.concat(gdf_list, ignore_index=True)"
   ]
  },
  {
   "cell_type": "code",
   "execution_count": 4,
   "metadata": {},
   "outputs": [
    {
     "data": {
      "text/html": [
       "<div>\n",
       "<style scoped>\n",
       "    .dataframe tbody tr th:only-of-type {\n",
       "        vertical-align: middle;\n",
       "    }\n",
       "\n",
       "    .dataframe tbody tr th {\n",
       "        vertical-align: top;\n",
       "    }\n",
       "\n",
       "    .dataframe thead th {\n",
       "        text-align: right;\n",
       "    }\n",
       "</style>\n",
       "<table border=\"1\" class=\"dataframe\">\n",
       "  <thead>\n",
       "    <tr style=\"text-align: right;\">\n",
       "      <th></th>\n",
       "      <th>POT_MW</th>\n",
       "      <th>ALT_TOTAL</th>\n",
       "      <th>ALT_TORRE</th>\n",
       "      <th>DIAM_ROTOR</th>\n",
       "      <th>DATA_ATUALIZACAO</th>\n",
       "      <th>EOL_VERSAO_ID</th>\n",
       "      <th>NOME_EOL</th>\n",
       "      <th>DEN_AEG</th>\n",
       "      <th>X</th>\n",
       "      <th>Y</th>\n",
       "      <th>VERSAO</th>\n",
       "      <th>DATUM_EMP</th>\n",
       "      <th>OPERACAO</th>\n",
       "      <th>FUSO_AG</th>\n",
       "      <th>PROPRIETARIO</th>\n",
       "      <th>ORIGEM</th>\n",
       "      <th>OBJECTID</th>\n",
       "      <th>UF</th>\n",
       "      <th>CEG</th>\n",
       "      <th>geometry</th>\n",
       "    </tr>\n",
       "  </thead>\n",
       "  <tbody>\n",
       "    <tr>\n",
       "      <th>0</th>\n",
       "      <td>1.85</td>\n",
       "      <td>121.25</td>\n",
       "      <td>80.0</td>\n",
       "      <td>82.5</td>\n",
       "      <td>1666625847000</td>\n",
       "      <td>30739</td>\n",
       "      <td>Caititu</td>\n",
       "      <td>CAI-083</td>\n",
       "      <td>754125.00</td>\n",
       "      <td>8398879.00</td>\n",
       "      <td>Versão Válida</td>\n",
       "      <td>WGS84</td>\n",
       "      <td>Sim</td>\n",
       "      <td>UTM 23 S (MER -45)</td>\n",
       "      <td>Central Eólica Caititu S.A.</td>\n",
       "      <td>None</td>\n",
       "      <td>1</td>\n",
       "      <td>BA</td>\n",
       "      <td>EOLCVBA030739-4-01</td>\n",
       "      <td>POINT (-42.64249 -14.47097)</td>\n",
       "    </tr>\n",
       "    <tr>\n",
       "      <th>1</th>\n",
       "      <td>2.00</td>\n",
       "      <td>145.00</td>\n",
       "      <td>95.0</td>\n",
       "      <td>100.0</td>\n",
       "      <td>1666625847000</td>\n",
       "      <td>30512</td>\n",
       "      <td>Dreen Boa Vista</td>\n",
       "      <td>BV07</td>\n",
       "      <td>175728.00</td>\n",
       "      <td>9433802.00</td>\n",
       "      <td>Versão Válida</td>\n",
       "      <td>SIRGAS2000</td>\n",
       "      <td>Sim</td>\n",
       "      <td>UTM 25 S (MER -33)</td>\n",
       "      <td>GE Boa Vista S.A.</td>\n",
       "      <td>None</td>\n",
       "      <td>2</td>\n",
       "      <td>RN</td>\n",
       "      <td>EOLCVRN030512-0-01</td>\n",
       "      <td>POINT (-35.92447 -5.11575)</td>\n",
       "    </tr>\n",
       "    <tr>\n",
       "      <th>2</th>\n",
       "      <td>2.00</td>\n",
       "      <td>145.00</td>\n",
       "      <td>95.0</td>\n",
       "      <td>100.0</td>\n",
       "      <td>1666625847000</td>\n",
       "      <td>30497</td>\n",
       "      <td>Renascença V</td>\n",
       "      <td>15</td>\n",
       "      <td>184692.00</td>\n",
       "      <td>9417056.00</td>\n",
       "      <td>Versão Válida</td>\n",
       "      <td>SIRGAS2000</td>\n",
       "      <td>Sim</td>\n",
       "      <td>UTM 25 S (MER -33)</td>\n",
       "      <td>Renascença V Energias Renováveis S.A.</td>\n",
       "      <td>None</td>\n",
       "      <td>3</td>\n",
       "      <td>RN</td>\n",
       "      <td>EOLCVRN030497-2-01</td>\n",
       "      <td>POINT (-35.84437 -5.26742)</td>\n",
       "    </tr>\n",
       "    <tr>\n",
       "      <th>3</th>\n",
       "      <td>2.70</td>\n",
       "      <td>150.00</td>\n",
       "      <td>89.0</td>\n",
       "      <td>122.0</td>\n",
       "      <td>1666625847000</td>\n",
       "      <td>30864</td>\n",
       "      <td>SM</td>\n",
       "      <td>1</td>\n",
       "      <td>176028.00</td>\n",
       "      <td>9397684.00</td>\n",
       "      <td>Versão Válida</td>\n",
       "      <td>SIRGAS2000</td>\n",
       "      <td>Sim</td>\n",
       "      <td>UTM 25 S (MER -33)</td>\n",
       "      <td>Santa Maria Energias Renováveis S.A.</td>\n",
       "      <td>None</td>\n",
       "      <td>4</td>\n",
       "      <td>RN</td>\n",
       "      <td>EOLCVRN030864-1-01</td>\n",
       "      <td>POINT (-35.92329 -5.44208)</td>\n",
       "    </tr>\n",
       "    <tr>\n",
       "      <th>4</th>\n",
       "      <td>2.10</td>\n",
       "      <td>143.70</td>\n",
       "      <td>96.2</td>\n",
       "      <td>95.0</td>\n",
       "      <td>1666625847000</td>\n",
       "      <td>30295</td>\n",
       "      <td>Colônia</td>\n",
       "      <td>AEG-08</td>\n",
       "      <td>513347.87</td>\n",
       "      <td>9608681.26</td>\n",
       "      <td>Versão Válida</td>\n",
       "      <td>SIRGAS2000</td>\n",
       "      <td>Sim</td>\n",
       "      <td>UTM 24 S (MER -39)</td>\n",
       "      <td>Central Geradora Eólica Colônia S.A.</td>\n",
       "      <td>None</td>\n",
       "      <td>5</td>\n",
       "      <td>CE</td>\n",
       "      <td>EOLCVCE030295-3-01</td>\n",
       "      <td>POINT (-38.87983 -3.54033)</td>\n",
       "    </tr>\n",
       "  </tbody>\n",
       "</table>\n",
       "</div>"
      ],
      "text/plain": [
       "   POT_MW  ALT_TOTAL  ALT_TORRE  DIAM_ROTOR  DATA_ATUALIZACAO  EOL_VERSAO_ID  \\\n",
       "0    1.85     121.25       80.0        82.5     1666625847000          30739   \n",
       "1    2.00     145.00       95.0       100.0     1666625847000          30512   \n",
       "2    2.00     145.00       95.0       100.0     1666625847000          30497   \n",
       "3    2.70     150.00       89.0       122.0     1666625847000          30864   \n",
       "4    2.10     143.70       96.2        95.0     1666625847000          30295   \n",
       "\n",
       "          NOME_EOL  DEN_AEG          X           Y         VERSAO   DATUM_EMP  \\\n",
       "0          Caititu  CAI-083  754125.00  8398879.00  Versão Válida       WGS84   \n",
       "1  Dreen Boa Vista     BV07  175728.00  9433802.00  Versão Válida  SIRGAS2000   \n",
       "2     Renascença V       15  184692.00  9417056.00  Versão Válida  SIRGAS2000   \n",
       "3               SM        1  176028.00  9397684.00  Versão Válida  SIRGAS2000   \n",
       "4          Colônia   AEG-08  513347.87  9608681.26  Versão Válida  SIRGAS2000   \n",
       "\n",
       "  OPERACAO             FUSO_AG                           PROPRIETARIO ORIGEM  \\\n",
       "0      Sim  UTM 23 S (MER -45)            Central Eólica Caititu S.A.   None   \n",
       "1      Sim  UTM 25 S (MER -33)                      GE Boa Vista S.A.   None   \n",
       "2      Sim  UTM 25 S (MER -33)  Renascença V Energias Renováveis S.A.   None   \n",
       "3      Sim  UTM 25 S (MER -33)   Santa Maria Energias Renováveis S.A.   None   \n",
       "4      Sim  UTM 24 S (MER -39)   Central Geradora Eólica Colônia S.A.   None   \n",
       "\n",
       "   OBJECTID  UF                 CEG                     geometry  \n",
       "0         1  BA  EOLCVBA030739-4-01  POINT (-42.64249 -14.47097)  \n",
       "1         2  RN  EOLCVRN030512-0-01   POINT (-35.92447 -5.11575)  \n",
       "2         3  RN  EOLCVRN030497-2-01   POINT (-35.84437 -5.26742)  \n",
       "3         4  RN  EOLCVRN030864-1-01   POINT (-35.92329 -5.44208)  \n",
       "4         5  CE  EOLCVCE030295-3-01   POINT (-38.87983 -3.54033)  "
      ]
     },
     "execution_count": 4,
     "metadata": {},
     "output_type": "execute_result"
    }
   ],
   "source": [
    "gdf_wind.head()"
   ]
  },
  {
   "cell_type": "markdown",
   "metadata": {},
   "source": [
    "# Data Processing"
   ]
  },
  {
   "cell_type": "markdown",
   "metadata": {},
   "source": [
    "Quick check to ensure all entries has a valid geometry"
   ]
  },
  {
   "cell_type": "code",
   "execution_count": 5,
   "metadata": {},
   "outputs": [
    {
     "data": {
      "text/plain": [
       "array([ True])"
      ]
     },
     "execution_count": 5,
     "metadata": {},
     "output_type": "execute_result"
    }
   ],
   "source": [
    "gdf_wind.geometry.is_valid.unique()"
   ]
  },
  {
   "cell_type": "markdown",
   "metadata": {},
   "source": [
    "## Latitude and Longitude"
   ]
  },
  {
   "cell_type": "code",
   "execution_count": 6,
   "metadata": {},
   "outputs": [
    {
     "data": {
      "text/html": [
       "<div>\n",
       "<style scoped>\n",
       "    .dataframe tbody tr th:only-of-type {\n",
       "        vertical-align: middle;\n",
       "    }\n",
       "\n",
       "    .dataframe tbody tr th {\n",
       "        vertical-align: top;\n",
       "    }\n",
       "\n",
       "    .dataframe thead th {\n",
       "        text-align: right;\n",
       "    }\n",
       "</style>\n",
       "<table border=\"1\" class=\"dataframe\">\n",
       "  <thead>\n",
       "    <tr style=\"text-align: right;\">\n",
       "      <th></th>\n",
       "      <th>POT_MW</th>\n",
       "      <th>ALT_TOTAL</th>\n",
       "      <th>ALT_TORRE</th>\n",
       "      <th>DIAM_ROTOR</th>\n",
       "      <th>DATA_ATUALIZACAO</th>\n",
       "      <th>EOL_VERSAO_ID</th>\n",
       "      <th>NOME_EOL</th>\n",
       "      <th>DEN_AEG</th>\n",
       "      <th>X</th>\n",
       "      <th>Y</th>\n",
       "      <th>...</th>\n",
       "      <th>OPERACAO</th>\n",
       "      <th>FUSO_AG</th>\n",
       "      <th>PROPRIETARIO</th>\n",
       "      <th>ORIGEM</th>\n",
       "      <th>OBJECTID</th>\n",
       "      <th>UF</th>\n",
       "      <th>CEG</th>\n",
       "      <th>geometry</th>\n",
       "      <th>LONG</th>\n",
       "      <th>LAT</th>\n",
       "    </tr>\n",
       "  </thead>\n",
       "  <tbody>\n",
       "    <tr>\n",
       "      <th>0</th>\n",
       "      <td>1.85</td>\n",
       "      <td>121.25</td>\n",
       "      <td>80.0</td>\n",
       "      <td>82.5</td>\n",
       "      <td>1666625847000</td>\n",
       "      <td>30739</td>\n",
       "      <td>Caititu</td>\n",
       "      <td>CAI-083</td>\n",
       "      <td>754125.00</td>\n",
       "      <td>8398879.00</td>\n",
       "      <td>...</td>\n",
       "      <td>Sim</td>\n",
       "      <td>UTM 23 S (MER -45)</td>\n",
       "      <td>Central Eólica Caititu S.A.</td>\n",
       "      <td>None</td>\n",
       "      <td>1</td>\n",
       "      <td>BA</td>\n",
       "      <td>EOLCVBA030739-4-01</td>\n",
       "      <td>POINT (-42.64249 -14.47097)</td>\n",
       "      <td>-42.642495</td>\n",
       "      <td>-14.470968</td>\n",
       "    </tr>\n",
       "    <tr>\n",
       "      <th>1</th>\n",
       "      <td>2.00</td>\n",
       "      <td>145.00</td>\n",
       "      <td>95.0</td>\n",
       "      <td>100.0</td>\n",
       "      <td>1666625847000</td>\n",
       "      <td>30512</td>\n",
       "      <td>Dreen Boa Vista</td>\n",
       "      <td>BV07</td>\n",
       "      <td>175728.00</td>\n",
       "      <td>9433802.00</td>\n",
       "      <td>...</td>\n",
       "      <td>Sim</td>\n",
       "      <td>UTM 25 S (MER -33)</td>\n",
       "      <td>GE Boa Vista S.A.</td>\n",
       "      <td>None</td>\n",
       "      <td>2</td>\n",
       "      <td>RN</td>\n",
       "      <td>EOLCVRN030512-0-01</td>\n",
       "      <td>POINT (-35.92447 -5.11575)</td>\n",
       "      <td>-35.924469</td>\n",
       "      <td>-5.115754</td>\n",
       "    </tr>\n",
       "    <tr>\n",
       "      <th>2</th>\n",
       "      <td>2.00</td>\n",
       "      <td>145.00</td>\n",
       "      <td>95.0</td>\n",
       "      <td>100.0</td>\n",
       "      <td>1666625847000</td>\n",
       "      <td>30497</td>\n",
       "      <td>Renascença V</td>\n",
       "      <td>15</td>\n",
       "      <td>184692.00</td>\n",
       "      <td>9417056.00</td>\n",
       "      <td>...</td>\n",
       "      <td>Sim</td>\n",
       "      <td>UTM 25 S (MER -33)</td>\n",
       "      <td>Renascença V Energias Renováveis S.A.</td>\n",
       "      <td>None</td>\n",
       "      <td>3</td>\n",
       "      <td>RN</td>\n",
       "      <td>EOLCVRN030497-2-01</td>\n",
       "      <td>POINT (-35.84437 -5.26742)</td>\n",
       "      <td>-35.844373</td>\n",
       "      <td>-5.267424</td>\n",
       "    </tr>\n",
       "    <tr>\n",
       "      <th>3</th>\n",
       "      <td>2.70</td>\n",
       "      <td>150.00</td>\n",
       "      <td>89.0</td>\n",
       "      <td>122.0</td>\n",
       "      <td>1666625847000</td>\n",
       "      <td>30864</td>\n",
       "      <td>SM</td>\n",
       "      <td>1</td>\n",
       "      <td>176028.00</td>\n",
       "      <td>9397684.00</td>\n",
       "      <td>...</td>\n",
       "      <td>Sim</td>\n",
       "      <td>UTM 25 S (MER -33)</td>\n",
       "      <td>Santa Maria Energias Renováveis S.A.</td>\n",
       "      <td>None</td>\n",
       "      <td>4</td>\n",
       "      <td>RN</td>\n",
       "      <td>EOLCVRN030864-1-01</td>\n",
       "      <td>POINT (-35.92329 -5.44208)</td>\n",
       "      <td>-35.923294</td>\n",
       "      <td>-5.442082</td>\n",
       "    </tr>\n",
       "    <tr>\n",
       "      <th>4</th>\n",
       "      <td>2.10</td>\n",
       "      <td>143.70</td>\n",
       "      <td>96.2</td>\n",
       "      <td>95.0</td>\n",
       "      <td>1666625847000</td>\n",
       "      <td>30295</td>\n",
       "      <td>Colônia</td>\n",
       "      <td>AEG-08</td>\n",
       "      <td>513347.87</td>\n",
       "      <td>9608681.26</td>\n",
       "      <td>...</td>\n",
       "      <td>Sim</td>\n",
       "      <td>UTM 24 S (MER -39)</td>\n",
       "      <td>Central Geradora Eólica Colônia S.A.</td>\n",
       "      <td>None</td>\n",
       "      <td>5</td>\n",
       "      <td>CE</td>\n",
       "      <td>EOLCVCE030295-3-01</td>\n",
       "      <td>POINT (-38.87983 -3.54033)</td>\n",
       "      <td>-38.879826</td>\n",
       "      <td>-3.540330</td>\n",
       "    </tr>\n",
       "  </tbody>\n",
       "</table>\n",
       "<p>5 rows × 22 columns</p>\n",
       "</div>"
      ],
      "text/plain": [
       "   POT_MW  ALT_TOTAL  ALT_TORRE  DIAM_ROTOR  DATA_ATUALIZACAO  EOL_VERSAO_ID  \\\n",
       "0    1.85     121.25       80.0        82.5     1666625847000          30739   \n",
       "1    2.00     145.00       95.0       100.0     1666625847000          30512   \n",
       "2    2.00     145.00       95.0       100.0     1666625847000          30497   \n",
       "3    2.70     150.00       89.0       122.0     1666625847000          30864   \n",
       "4    2.10     143.70       96.2        95.0     1666625847000          30295   \n",
       "\n",
       "          NOME_EOL  DEN_AEG          X           Y  ... OPERACAO  \\\n",
       "0          Caititu  CAI-083  754125.00  8398879.00  ...      Sim   \n",
       "1  Dreen Boa Vista     BV07  175728.00  9433802.00  ...      Sim   \n",
       "2     Renascença V       15  184692.00  9417056.00  ...      Sim   \n",
       "3               SM        1  176028.00  9397684.00  ...      Sim   \n",
       "4          Colônia   AEG-08  513347.87  9608681.26  ...      Sim   \n",
       "\n",
       "              FUSO_AG                           PROPRIETARIO ORIGEM OBJECTID  \\\n",
       "0  UTM 23 S (MER -45)            Central Eólica Caititu S.A.   None        1   \n",
       "1  UTM 25 S (MER -33)                      GE Boa Vista S.A.   None        2   \n",
       "2  UTM 25 S (MER -33)  Renascença V Energias Renováveis S.A.   None        3   \n",
       "3  UTM 25 S (MER -33)   Santa Maria Energias Renováveis S.A.   None        4   \n",
       "4  UTM 24 S (MER -39)   Central Geradora Eólica Colônia S.A.   None        5   \n",
       "\n",
       "   UF                 CEG                     geometry       LONG        LAT  \n",
       "0  BA  EOLCVBA030739-4-01  POINT (-42.64249 -14.47097) -42.642495 -14.470968  \n",
       "1  RN  EOLCVRN030512-0-01   POINT (-35.92447 -5.11575) -35.924469  -5.115754  \n",
       "2  RN  EOLCVRN030497-2-01   POINT (-35.84437 -5.26742) -35.844373  -5.267424  \n",
       "3  RN  EOLCVRN030864-1-01   POINT (-35.92329 -5.44208) -35.923294  -5.442082  \n",
       "4  CE  EOLCVCE030295-3-01   POINT (-38.87983 -3.54033) -38.879826  -3.540330  \n",
       "\n",
       "[5 rows x 22 columns]"
      ]
     },
     "execution_count": 6,
     "metadata": {},
     "output_type": "execute_result"
    }
   ],
   "source": [
    "gdf_wind[\"LONG\"] = gdf_wind.geometry.x\n",
    "gdf_wind[\"LAT\"] = gdf_wind.geometry.y\n",
    "gdf_wind.head()"
   ]
  },
  {
   "cell_type": "markdown",
   "metadata": {},
   "source": [
    "## Column OPERACAO"
   ]
  },
  {
   "cell_type": "markdown",
   "metadata": {},
   "source": [
    "Verifying values in the column"
   ]
  },
  {
   "cell_type": "code",
   "execution_count": 8,
   "metadata": {},
   "outputs": [
    {
     "name": "stdout",
     "output_type": "stream",
     "text": [
      "Amount of invalid values in Operacao 13\n",
      "All valuesin column Operacao ['Sim' 'Não' None '1']\n"
     ]
    }
   ],
   "source": [
    "print( f\"Amount of invalid values in Operacao {len(gdf_wind[~gdf_wind[\"OPERACAO\"].isin(['Sim', 'Não'])])}\")\n",
    "print(f\"All valuesin column Operacao {gdf_wind[\"OPERACAO\"].unique()}\")"
   ]
  },
  {
   "cell_type": "code",
   "execution_count": 9,
   "metadata": {},
   "outputs": [
    {
     "data": {
      "text/plain": [
       "np.int64(5)"
      ]
     },
     "execution_count": 9,
     "metadata": {},
     "output_type": "execute_result"
    }
   ],
   "source": [
    "gdf_wind[\"OPERACAO\"].isna().sum()"
   ]
  },
  {
   "cell_type": "markdown",
   "metadata": {},
   "source": [
    "There are 13 entries with an invalid value, 8 rows with operation \"1\" and 5 rows with None. Even though 1 could mean Sim, since it represent a very low percentage of the data, these 13 entries can be ignored for this analysis."
   ]
  },
  {
   "cell_type": "code",
   "execution_count": 10,
   "metadata": {},
   "outputs": [
    {
     "data": {
      "text/plain": [
       "23491"
      ]
     },
     "execution_count": 10,
     "metadata": {},
     "output_type": "execute_result"
    }
   ],
   "source": [
    "gdf_wind = gdf_wind[gdf_wind[\"OPERACAO\"].isin([\"Sim\", \"Não\"])]\n",
    "gdf_wind[\"OPERACAO\"] = gdf_wind[\"OPERACAO\"] == \"Sim\"\n",
    "len(gdf_wind)"
   ]
  },
  {
   "cell_type": "markdown",
   "metadata": {},
   "source": [
    "## Columns Versao and Origem"
   ]
  },
  {
   "cell_type": "code",
   "execution_count": 11,
   "metadata": {},
   "outputs": [
    {
     "data": {
      "text/plain": [
       "array(['Versão Válida'], dtype=object)"
      ]
     },
     "execution_count": 11,
     "metadata": {},
     "output_type": "execute_result"
    }
   ],
   "source": [
    "gdf_wind[\"VERSAO\"].unique()"
   ]
  },
  {
   "cell_type": "code",
   "execution_count": 12,
   "metadata": {},
   "outputs": [
    {
     "data": {
      "text/plain": [
       "array([None], dtype=object)"
      ]
     },
     "execution_count": 12,
     "metadata": {},
     "output_type": "execute_result"
    }
   ],
   "source": [
    "gdf_wind[\"ORIGEM\"].unique()"
   ]
  },
  {
   "cell_type": "markdown",
   "metadata": {},
   "source": [
    "## Column POT_MW\n",
    "\n",
    "Typical values for power output may vary from 1 MW up to 15 MW, so in this step, we can perform a brief outliers check"
   ]
  },
  {
   "cell_type": "code",
   "execution_count": 13,
   "metadata": {},
   "outputs": [
    {
     "data": {
      "text/plain": [
       "<Axes: >"
      ]
     },
     "execution_count": 13,
     "metadata": {},
     "output_type": "execute_result"
    },
    {
     "data": {
      "image/png": "[encoded data removed]",
      "text/plain": [
       "<Figure size 640x480 with 1 Axes>"
      ]
     },
     "metadata": {},
     "output_type": "display_data"
    }
   ],
   "source": [
    "gdf_wind.boxplot([\"POT_MW\"])"
   ]
  },
  {
   "cell_type": "markdown",
   "metadata": {},
   "source": [
    "Filtering out absurd values (Power greater than 1.000 MW)"
   ]
  },
  {
   "cell_type": "code",
   "execution_count": 14,
   "metadata": {},
   "outputs": [
    {
     "name": "stdout",
     "output_type": "stream",
     "text": [
      "Removing 12 entries\n",
      "Remaining entries: 23479\n"
     ]
    }
   ],
   "source": [
    "print(f\"Removing {len(gdf_wind[gdf_wind['POT_MW'] > 1000])} entries\")\n",
    "\n",
    "gdf_wind = gdf_wind[gdf_wind[\"POT_MW\"] < 1000]\n",
    "print(f\"Remaining entries: {len(gdf_wind)}\")"
   ]
  },
  {
   "cell_type": "code",
   "execution_count": 16,
   "metadata": {},
   "outputs": [
    {
     "data": {
      "image/png": "[encoded data removed]",
      "text/plain": [
       "<Figure size 640x480 with 1 Axes>"
      ]
     },
     "metadata": {},
     "output_type": "display_data"
    }
   ],
   "source": [
    "gdf_wind.boxplot([\"POT_MW\"])\n",
    "plt.show()\n"
   ]
  },
  {
   "cell_type": "markdown",
   "metadata": {},
   "source": [
    "From the remaining data, we can find only 60 entries with power output greater than 10, being completely out of the typical range for the other wind turbines in the country. Therefore, we're removing these entries, since they also correspond to a single operator and it's not in operation."
   ]
  },
  {
   "cell_type": "code",
   "execution_count": 17,
   "metadata": {},
   "outputs": [
    {
     "name": "stdout",
     "output_type": "stream",
     "text": [
      "Operator: ['Marítimo Asa Branca I']\n",
      "In operation [False]\n",
      "Number of entries 60\n",
      "Remaining entries: 23419\n"
     ]
    }
   ],
   "source": [
    "gdf_g_10 = gdf_wind[gdf_wind[\"POT_MW\"] > 10]\n",
    "print(f\"Operator: {gdf_g_10['NOME_EOL'].unique()}\")\n",
    "print(f\"In operation {gdf_g_10['OPERACAO'].unique()}\")\n",
    "print(f\"Number of entries {len(gdf_g_10)}\")\n",
    "\n",
    "gdf_wind = gdf_wind[gdf_wind[\"POT_MW\"] < 10]\n",
    "print(f\"Remaining entries: {len(gdf_wind)}\")"
   ]
  },
  {
   "cell_type": "markdown",
   "metadata": {},
   "source": [
    "## Columns Alt_Torre, Alt_total and Diam_Rotor\n",
    "By the following boxplot, we can conclude that there are no notable outliers."
   ]
  },
  {
   "cell_type": "code",
   "execution_count": 20,
   "metadata": {},
   "outputs": [
    {
     "data": {
      "image/png": "[encoded data removed]",
      "text/plain": [
       "<Figure size 640x480 with 1 Axes>"
      ]
     },
     "metadata": {},
     "output_type": "display_data"
    }
   ],
   "source": [
    "gdf_wind.boxplot([\"ALT_TORRE\", \"ALT_TOTAL\", \"DIAM_ROTOR\"])\n",
    "plt.show()"
   ]
  },
  {
   "cell_type": "markdown",
   "metadata": {},
   "source": [
    "## Quick check on the date values"
   ]
  },
  {
   "cell_type": "code",
   "execution_count": 21,
   "metadata": {},
   "outputs": [
    {
     "name": "stdout",
     "output_type": "stream",
     "text": [
      "Ammount of None values for the date: 0\n",
      "Earliest date on record: 2020-12-28 18:45:03\n",
      "Latest date on record: 2024-03-11 16:21:31\n"
     ]
    }
   ],
   "source": [
    "print(f\"Ammount of None values for the date: {gdf_wind['DATA_ATUALIZACAO'].isna().sum()}\")\n",
    "print(f\"Earliest date on record: {datetime.fromtimestamp(gdf_wind['DATA_ATUALIZACAO'].min()/1000)}\")\n",
    "print(f\"Latest date on record: {datetime.fromtimestamp(gdf_wind['DATA_ATUALIZACAO'].max()/1000)}\")"
   ]
  },
  {
   "cell_type": "markdown",
   "metadata": {},
   "source": [
    "Convert date values from epoch time to datetime format"
   ]
  },
  {
   "cell_type": "code",
   "execution_count": 22,
   "metadata": {},
   "outputs": [
    {
     "data": {
      "text/html": [
       "<div>\n",
       "<style scoped>\n",
       "    .dataframe tbody tr th:only-of-type {\n",
       "        vertical-align: middle;\n",
       "    }\n",
       "\n",
       "    .dataframe tbody tr th {\n",
       "        vertical-align: top;\n",
       "    }\n",
       "\n",
       "    .dataframe thead th {\n",
       "        text-align: right;\n",
       "    }\n",
       "</style>\n",
       "<table border=\"1\" class=\"dataframe\">\n",
       "  <thead>\n",
       "    <tr style=\"text-align: right;\">\n",
       "      <th></th>\n",
       "      <th>POT_MW</th>\n",
       "      <th>ALT_TOTAL</th>\n",
       "      <th>ALT_TORRE</th>\n",
       "      <th>DIAM_ROTOR</th>\n",
       "      <th>DATA_ATUALIZACAO</th>\n",
       "      <th>EOL_VERSAO_ID</th>\n",
       "      <th>NOME_EOL</th>\n",
       "      <th>DEN_AEG</th>\n",
       "      <th>X</th>\n",
       "      <th>Y</th>\n",
       "      <th>...</th>\n",
       "      <th>OPERACAO</th>\n",
       "      <th>FUSO_AG</th>\n",
       "      <th>PROPRIETARIO</th>\n",
       "      <th>ORIGEM</th>\n",
       "      <th>OBJECTID</th>\n",
       "      <th>UF</th>\n",
       "      <th>CEG</th>\n",
       "      <th>geometry</th>\n",
       "      <th>LONG</th>\n",
       "      <th>LAT</th>\n",
       "    </tr>\n",
       "  </thead>\n",
       "  <tbody>\n",
       "    <tr>\n",
       "      <th>0</th>\n",
       "      <td>1.85</td>\n",
       "      <td>121.25</td>\n",
       "      <td>80.0</td>\n",
       "      <td>82.5</td>\n",
       "      <td>2022-10-24 15:37:27</td>\n",
       "      <td>30739</td>\n",
       "      <td>Caititu</td>\n",
       "      <td>CAI-083</td>\n",
       "      <td>754125.00</td>\n",
       "      <td>8398879.00</td>\n",
       "      <td>...</td>\n",
       "      <td>True</td>\n",
       "      <td>UTM 23 S (MER -45)</td>\n",
       "      <td>Central Eólica Caititu S.A.</td>\n",
       "      <td>None</td>\n",
       "      <td>1</td>\n",
       "      <td>BA</td>\n",
       "      <td>EOLCVBA030739-4-01</td>\n",
       "      <td>POINT (-42.64249 -14.47097)</td>\n",
       "      <td>-42.642495</td>\n",
       "      <td>-14.470968</td>\n",
       "    </tr>\n",
       "    <tr>\n",
       "      <th>1</th>\n",
       "      <td>2.00</td>\n",
       "      <td>145.00</td>\n",
       "      <td>95.0</td>\n",
       "      <td>100.0</td>\n",
       "      <td>2022-10-24 15:37:27</td>\n",
       "      <td>30512</td>\n",
       "      <td>Dreen Boa Vista</td>\n",
       "      <td>BV07</td>\n",
       "      <td>175728.00</td>\n",
       "      <td>9433802.00</td>\n",
       "      <td>...</td>\n",
       "      <td>True</td>\n",
       "      <td>UTM 25 S (MER -33)</td>\n",
       "      <td>GE Boa Vista S.A.</td>\n",
       "      <td>None</td>\n",
       "      <td>2</td>\n",
       "      <td>RN</td>\n",
       "      <td>EOLCVRN030512-0-01</td>\n",
       "      <td>POINT (-35.92447 -5.11575)</td>\n",
       "      <td>-35.924469</td>\n",
       "      <td>-5.115754</td>\n",
       "    </tr>\n",
       "    <tr>\n",
       "      <th>2</th>\n",
       "      <td>2.00</td>\n",
       "      <td>145.00</td>\n",
       "      <td>95.0</td>\n",
       "      <td>100.0</td>\n",
       "      <td>2022-10-24 15:37:27</td>\n",
       "      <td>30497</td>\n",
       "      <td>Renascença V</td>\n",
       "      <td>15</td>\n",
       "      <td>184692.00</td>\n",
       "      <td>9417056.00</td>\n",
       "      <td>...</td>\n",
       "      <td>True</td>\n",
       "      <td>UTM 25 S (MER -33)</td>\n",
       "      <td>Renascença V Energias Renováveis S.A.</td>\n",
       "      <td>None</td>\n",
       "      <td>3</td>\n",
       "      <td>RN</td>\n",
       "      <td>EOLCVRN030497-2-01</td>\n",
       "      <td>POINT (-35.84437 -5.26742)</td>\n",
       "      <td>-35.844373</td>\n",
       "      <td>-5.267424</td>\n",
       "    </tr>\n",
       "    <tr>\n",
       "      <th>3</th>\n",
       "      <td>2.70</td>\n",
       "      <td>150.00</td>\n",
       "      <td>89.0</td>\n",
       "      <td>122.0</td>\n",
       "      <td>2022-10-24 15:37:27</td>\n",
       "      <td>30864</td>\n",
       "      <td>SM</td>\n",
       "      <td>1</td>\n",
       "      <td>176028.00</td>\n",
       "      <td>9397684.00</td>\n",
       "      <td>...</td>\n",
       "      <td>True</td>\n",
       "      <td>UTM 25 S (MER -33)</td>\n",
       "      <td>Santa Maria Energias Renováveis S.A.</td>\n",
       "      <td>None</td>\n",
       "      <td>4</td>\n",
       "      <td>RN</td>\n",
       "      <td>EOLCVRN030864-1-01</td>\n",
       "      <td>POINT (-35.92329 -5.44208)</td>\n",
       "      <td>-35.923294</td>\n",
       "      <td>-5.442082</td>\n",
       "    </tr>\n",
       "    <tr>\n",
       "      <th>4</th>\n",
       "      <td>2.10</td>\n",
       "      <td>143.70</td>\n",
       "      <td>96.2</td>\n",
       "      <td>95.0</td>\n",
       "      <td>2022-10-24 15:37:27</td>\n",
       "      <td>30295</td>\n",
       "      <td>Colônia</td>\n",
       "      <td>AEG-08</td>\n",
       "      <td>513347.87</td>\n",
       "      <td>9608681.26</td>\n",
       "      <td>...</td>\n",
       "      <td>True</td>\n",
       "      <td>UTM 24 S (MER -39)</td>\n",
       "      <td>Central Geradora Eólica Colônia S.A.</td>\n",
       "      <td>None</td>\n",
       "      <td>5</td>\n",
       "      <td>CE</td>\n",
       "      <td>EOLCVCE030295-3-01</td>\n",
       "      <td>POINT (-38.87983 -3.54033)</td>\n",
       "      <td>-38.879826</td>\n",
       "      <td>-3.540330</td>\n",
       "    </tr>\n",
       "  </tbody>\n",
       "</table>\n",
       "<p>5 rows × 22 columns</p>\n",
       "</div>"
      ],
      "text/plain": [
       "   POT_MW  ALT_TOTAL  ALT_TORRE  DIAM_ROTOR    DATA_ATUALIZACAO  \\\n",
       "0    1.85     121.25       80.0        82.5 2022-10-24 15:37:27   \n",
       "1    2.00     145.00       95.0       100.0 2022-10-24 15:37:27   \n",
       "2    2.00     145.00       95.0       100.0 2022-10-24 15:37:27   \n",
       "3    2.70     150.00       89.0       122.0 2022-10-24 15:37:27   \n",
       "4    2.10     143.70       96.2        95.0 2022-10-24 15:37:27   \n",
       "\n",
       "   EOL_VERSAO_ID         NOME_EOL  DEN_AEG          X           Y  ...  \\\n",
       "0          30739          Caititu  CAI-083  754125.00  8398879.00  ...   \n",
       "1          30512  Dreen Boa Vista     BV07  175728.00  9433802.00  ...   \n",
       "2          30497     Renascença V       15  184692.00  9417056.00  ...   \n",
       "3          30864               SM        1  176028.00  9397684.00  ...   \n",
       "4          30295          Colônia   AEG-08  513347.87  9608681.26  ...   \n",
       "\n",
       "  OPERACAO             FUSO_AG                           PROPRIETARIO ORIGEM  \\\n",
       "0     True  UTM 23 S (MER -45)            Central Eólica Caititu S.A.   None   \n",
       "1     True  UTM 25 S (MER -33)                      GE Boa Vista S.A.   None   \n",
       "2     True  UTM 25 S (MER -33)  Renascença V Energias Renováveis S.A.   None   \n",
       "3     True  UTM 25 S (MER -33)   Santa Maria Energias Renováveis S.A.   None   \n",
       "4     True  UTM 24 S (MER -39)   Central Geradora Eólica Colônia S.A.   None   \n",
       "\n",
       "  OBJECTID  UF                 CEG                     geometry       LONG  \\\n",
       "0        1  BA  EOLCVBA030739-4-01  POINT (-42.64249 -14.47097) -42.642495   \n",
       "1        2  RN  EOLCVRN030512-0-01   POINT (-35.92447 -5.11575) -35.924469   \n",
       "2        3  RN  EOLCVRN030497-2-01   POINT (-35.84437 -5.26742) -35.844373   \n",
       "3        4  RN  EOLCVRN030864-1-01   POINT (-35.92329 -5.44208) -35.923294   \n",
       "4        5  CE  EOLCVCE030295-3-01   POINT (-38.87983 -3.54033) -38.879826   \n",
       "\n",
       "         LAT  \n",
       "0 -14.470968  \n",
       "1  -5.115754  \n",
       "2  -5.267424  \n",
       "3  -5.442082  \n",
       "4  -3.540330  \n",
       "\n",
       "[5 rows x 22 columns]"
      ]
     },
     "execution_count": 22,
     "metadata": {},
     "output_type": "execute_result"
    }
   ],
   "source": [
    "gdf_wind[\"DATA_ATUALIZACAO\"] = pd.to_datetime(gdf_wind[\"DATA_ATUALIZACAO\"], unit=\"ms\")\n",
    "gdf_wind.head()"
   ]
  },
  {
   "cell_type": "markdown",
   "metadata": {},
   "source": [
    "## Export data\n",
    "\n",
    "Export final dataframe to a csv file for data visualization and analyses."
   ]
  },
  {
   "cell_type": "code",
   "execution_count": null,
   "metadata": {},
   "outputs": [],
   "source": [
    "gdf_wind.to_csv(processed_data_path, index=False)"
   ]
  }
 ],
 "metadata": {
  "kernelspec": {
   "display_name": ".venv",
   "language": "python",
   "name": "python3"
  },
  "language_info": {
   "codemirror_mode": {
    "name": "ipython",
    "version": 3
   },
   "file_extension": ".py",
   "mimetype": "text/x-python",
   "name": "python",
   "nbconvert_exporter": "python",
   "pygments_lexer": "ipython3",
   "version": "3.12.4"
  }
 },
 "nbformat": 4,
 "nbformat_minor": 2
}
